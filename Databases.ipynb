{
 "cells": [
  {
   "cell_type": "markdown",
   "metadata": {},
   "source": [
    "# Exercise Sheet \\#5 - SQLite\n",
    "\n",
    "In this sheet, we will use the [SQLite sample database](http://www.sqlitetutorial.net/wp-content/uploads/2018/03/chinook.zip) to explore (and learn!) the SQL language.\n",
    "\n",
    "First, make sure (1) you installed [SQLite](https://www.sqlite.org/download.html) on your computer, and (2) you downloaded (and unzipped in your working directory) the Sample database using the link given above. Recall the Data Model of that database is available [here](http://www.sqlitetutorial.net/wp-content/uploads/2015/11/sqlite-sample-database-color.jpg).\n",
    "\n",
    "For each question below, write the corresponding query and **run it on the sample data base** using either the sqlite3 interpreter or sqlitestudio or an equivalent tool.\n",
    "\n",
    "## Exercise 1 - Using single tables\n",
    "In this exercise, you are asked to perform various tasks on single tables."
   ]
  },
  {
   "cell_type": "code",
   "execution_count": null,
   "metadata": {},
   "outputs": [],
   "source": []
  },
  {
   "cell_type": "markdown",
   "metadata": {},
   "source": [
    "### Question 1.1\n",
    "Write a SQL query which lists the artists."
   ]
  },
  {
   "cell_type": "markdown",
   "metadata": {},
   "source": [
    "### Question 1.2\n",
    "Write a SQL query which computes the total number of artists."
   ]
  },
  {
   "cell_type": "markdown",
   "metadata": {},
   "source": [
    "### Question 1.3\n",
    "Write a SQL query which counts how many distinct artists are registered."
   ]
  },
  {
   "cell_type": "markdown",
   "metadata": {},
   "source": [
    "### Question 1.4\n",
    "Write a SQL query which lists the artists whose name starts with N."
   ]
  },
  {
   "cell_type": "markdown",
   "metadata": {},
   "source": [
    "### Question 1.5\n",
    "Write a SQL query which computes the number of tracks per album."
   ]
  },
  {
   "cell_type": "markdown",
   "metadata": {},
   "source": [
    "### Question 1.6\n",
    "Write a SQL query which computes the average duration (in milliseconds) of songs."
   ]
  },
  {
   "cell_type": "markdown",
   "metadata": {},
   "source": [
    "### Question 1.7\n",
    "Add **Bono** to the _artists_ table (make sure it gets a valid id)."
   ]
  },
  {
   "cell_type": "markdown",
   "metadata": {},
   "source": [
    "### Question 1.8\n",
    "List artists who do not appear in the _albums_ table.\n",
    "If there are any, what is the query you would use to remove them from the table ? "
   ]
  },
  {
   "cell_type": "markdown",
   "metadata": {},
   "source": [
    "### Question 1.9\n",
    "How could you remove all artists whose name starts with \"N\" from the _artists_ table ?"
   ]
  },
  {
   "cell_type": "markdown",
   "metadata": {},
   "source": [
    "## Exercise 2 - Using multiple tables\n",
    "In this exercise, you are asked to write queries which may require more than one table. "
   ]
  },
  {
   "cell_type": "markdown",
   "metadata": {},
   "source": [
    "### Question 2.1\n",
    "Write a SQL query which retrieves the list of artists (names) together with their albums recorded in the database."
   ]
  },
  {
   "cell_type": "markdown",
   "metadata": {},
   "source": [
    "### Question 2.2\n",
    "Filter the answers from the previous question so that only artists who have more than 3 albums recorded in the database are listed."
   ]
  },
  {
   "cell_type": "markdown",
   "metadata": {},
   "source": [
    "### Question 2.3\n",
    "List each song together with the number of times it appears in a recorded playlist."
   ]
  },
  {
   "cell_type": "markdown",
   "metadata": {},
   "source": [
    "### Question 2.4\n",
    "List the songs whose genre is Metal. How many of them are they ?"
   ]
  },
  {
   "cell_type": "markdown",
   "metadata": {},
   "source": [
    "### Question 2.5\n",
    "How many albums and songs from the \"Philip Glass Ensemble\" are they ? "
   ]
  },
  {
   "cell_type": "markdown",
   "metadata": {},
   "source": [
    "### Question 2.6\n",
    "Which artist plays the longest song of the database ?"
   ]
  },
  {
   "cell_type": "markdown",
   "metadata": {},
   "source": [
    "### Question 2.7\n",
    "Can you add new songs to the database ? What pieces of information are needed ? In what order do you add those ?"
   ]
  },
  {
   "cell_type": "markdown",
   "metadata": {},
   "source": [
    "### Question 2.8\n",
    "Are they genres for which there is no single song registered ?"
   ]
  },
  {
   "cell_type": "code",
   "execution_count": null,
   "metadata": {},
   "outputs": [],
   "source": []
  }
 ],
 "metadata": {
  "kernelspec": {
   "display_name": "Python 3",
   "language": "python",
   "name": "python3"
  },
  "language_info": {
   "codemirror_mode": {
    "name": "ipython",
    "version": 3
   },
   "file_extension": ".py",
   "mimetype": "text/x-python",
   "name": "python",
   "nbconvert_exporter": "python",
   "pygments_lexer": "ipython3",
   "version": "3.6.7"
  }
 },
 "nbformat": 4,
 "nbformat_minor": 2
}
