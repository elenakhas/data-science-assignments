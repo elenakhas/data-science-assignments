{
 "cells": [
  {
   "cell_type": "markdown",
   "metadata": {},
   "source": [
    "# Exercise Sheet \\# 6 - Interfacing Python with SQL databases"
   ]
  },
  {
   "cell_type": "markdown",
   "metadata": {},
   "source": [
    "In this exercises, you are asked to design python code which can interact with a SQLite database. We will use again the [SQL database](http://www.sqlitetutorial.net/wp-content/uploads/2018/03/chinook.zip) from Exercise Sheet \\#5. "
   ]
  },
  {
   "cell_type": "markdown",
   "metadata": {},
   "source": [
    "## Exercise 1\n",
    "\n",
    "Write a python script, which covers questions 1.5 to 1.9 from Exercise Sheet \\#5, using the SQLalchemy API."
   ]
  },
  {
   "cell_type": "code",
   "execution_count": null,
   "metadata": {},
   "outputs": [],
   "source": [
    "from sqlalchemy import Column, ForeignKey, Integer, String, Numeric\n",
    "from sqlalchemy.ext.declarative import declarative_base\n",
    "from sqlalchemy.orm import relationship\n",
    "from sqlalchemy import create_engine\n",
    "from sqlalchemy.orm import sessionmaker\n",
    "\n",
    "Base = declarative_base()\n",
    "\n",
    "class Artists(Base):\n",
    "    __tablename__ = 'artists'\n",
    "    artistid = Column(Integer, primary_key=True)\n",
    "    name = Column(String(120), nullable = False)\n",
    "class Albums(Base):\n",
    "    __tablename__ = 'artists'\n",
    "    albumid = Column(Integer, primary_key=True)\n",
    "    title = Column(String(160), nullable = False)\n",
    "    artistid = Column(Integer, ForeignKey('artists.artistid'))\n",
    "    artists = relationship(Artists)\n",
    "class Genres(Base):\n",
    "    __tablename__ = 'genres'\n",
    "    genreid = Column(Integer, primary_key=True)\n",
    "    name = Column(String(120))\n",
    "class Tracks(Base):\n",
    "    __tablename__ = 'tracks'\n",
    "    trackid = Column(Integer, primary_key=True)\n",
    "    albumid = Column(Integer, ForeignKey('albums.albumid'))\n",
    "    genreid = Column(Integer, ForeignKey('genres.genreid'))\n",
    "    name = Column(String(200))\n",
    "    mediatypeid = Column(Integer)\n",
    "    composer = Column(String(200))\n",
    "    milliseconds = Columns(Integer)\n",
    "    bytes = Column(Integer)\n",
    "    unitprice = Column(Numeric)\n",
    "    albums=relationship(Albums)\n",
    "    genres=relationship(Genres)\n",
    "    \n",
    "engine = create_engine(\"sqlite://chinook.db\")\n",
    "\n",
    "Base.metadata.bind = engine\n",
    "DBSession = sessionmaker(bind=engine, autoflush=False)\n",
    "session = DBSession()\n",
    "\n",
    "from sqlalchemy import func\n",
    "\n",
    "ql_5 = session.query(Tracks.albumid, func.count(Tracks.trackid).group_by(Tracks.albumid))\n",
    "\n",
    "for _aid, _count in ql_5.all():\n",
    "    print(\"Album id: {}, Num tracks: {}\".format(_aid, _count))\n",
    "    \n",
    "ql_6 = session.query(func.avg(Tracks.milliseconds))\n",
    "\n",
    "for _length in ql_6.first():\n",
    "    print(\"Average track duration:\" + str(_length))\n",
    "    \n",
    "ql_7 = Artists(artistid=int(session.query(func.max(Artist.artistid)).first()[0]) + 1, name = \"Bono\")\n",
    "session.add(ql_7)\n",
    "\n",
    "ql_8 = session.query(Artists).filter(~Artists.artistid.in_([x[0] for x in session.query(Albums.artistid)]))\n",
    "\n",
    "for _artist in ql_8.all():\n",
    "    print(_artist.artistid, _artist.name)\n",
    "    \n",
    "ql_9 = session.query(Artists).filter(Artists.name.like(\"N%\"))\n",
    "for _artists in ql_9.all():\n",
    "    print(_artists.artistid, _artists.name)"
   ]
  },
  {
   "cell_type": "markdown",
   "metadata": {},
   "source": [
    "## Exercise 2\n",
    "Extend your program so that it also covers questions 2.5, 2.6 and 2.8 from previous Exercise Sheet."
   ]
  },
  {
   "cell_type": "code",
   "execution_count": null,
   "metadata": {},
   "outputs": [],
   "source": []
  }
 ],
 "metadata": {
  "kernelspec": {
   "display_name": "Python 3",
   "language": "python",
   "name": "python3"
  },
  "language_info": {
   "codemirror_mode": {
    "name": "ipython",
    "version": 3
   },
   "file_extension": ".py",
   "mimetype": "text/x-python",
   "name": "python",
   "nbconvert_exporter": "python",
   "pygments_lexer": "ipython3",
   "version": "3.7.1"
  }
 },
 "nbformat": 4,
 "nbformat_minor": 2
}
