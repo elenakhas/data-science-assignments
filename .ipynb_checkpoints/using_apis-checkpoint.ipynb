{
 "cells": [
  {
   "cell_type": "markdown",
   "metadata": {},
   "source": [
    "# Exercise sheet \\#4\n",
    "## Using APIs\n",
    "### Exercise 1\n",
    "Write a Python script which gets the list of astronauts who are currently in Space. To do so, you can use the [astro.json](http://api.open-notify.org/astros.json) OpenNotify API. "
   ]
  },
  {
   "cell_type": "code",
   "execution_count": 1,
   "metadata": {},
   "outputs": [
    {
     "name": "stdout",
     "output_type": "stream",
     "text": [
      "['Oleg Kononenko', 'David Saint-Jacques', 'Anne McClain']\n"
     ]
    }
   ],
   "source": [
    "import requests\n",
    "response = requests.get(\"http://api.open-notify.org/astros.json\")\n",
    "data = response.json()\n",
    "astronauts = list(map(lambda x: x['name'], data['people']))\n",
    "print(astronauts)"
   ]
  },
  {
   "cell_type": "markdown",
   "metadata": {},
   "source": [
    "### Exercise 2\n",
    "\n",
    "#### Question 2.1\n",
    "Write a Python program, which, for each astronaut found in Exercise 1, retrieves  her.his (English) wikipedia article and extract the article's summary and links."
   ]
  },
  {
   "cell_type": "code",
   "execution_count": 25,
   "metadata": {},
   "outputs": [
    {
     "ename": "ModuleNotFoundError",
     "evalue": "No module named 'wikipedia'",
     "output_type": "error",
     "traceback": [
      "\u001b[1;31m---------------------------------------------------------------------------\u001b[0m",
      "\u001b[1;31mModuleNotFoundError\u001b[0m                       Traceback (most recent call last)",
      "\u001b[1;32m<ipython-input-25-e0b4fc695428>\u001b[0m in \u001b[0;36m<module>\u001b[1;34m\u001b[0m\n\u001b[1;32m----> 1\u001b[1;33m \u001b[1;32mimport\u001b[0m \u001b[0mwikipedia\u001b[0m\u001b[1;33m\u001b[0m\u001b[1;33m\u001b[0m\u001b[0m\n\u001b[0m\u001b[0;32m      2\u001b[0m \u001b[1;33m\u001b[0m\u001b[0m\n\u001b[0;32m      3\u001b[0m \u001b[0mlinks\u001b[0m \u001b[1;33m=\u001b[0m \u001b[1;33m[\u001b[0m\u001b[1;33m]\u001b[0m\u001b[1;33m\u001b[0m\u001b[1;33m\u001b[0m\u001b[0m\n\u001b[0;32m      4\u001b[0m \u001b[1;32mfor\u001b[0m \u001b[0mx\u001b[0m \u001b[1;32min\u001b[0m \u001b[0mastronauts\u001b[0m\u001b[1;33m:\u001b[0m\u001b[1;33m\u001b[0m\u001b[1;33m\u001b[0m\u001b[0m\n\u001b[0;32m      5\u001b[0m     \u001b[0mprint\u001b[0m\u001b[1;33m(\u001b[0m\u001b[0mwikipedia\u001b[0m\u001b[1;33m.\u001b[0m\u001b[0msummary\u001b[0m\u001b[1;33m(\u001b[0m\u001b[0mx\u001b[0m\u001b[1;33m)\u001b[0m\u001b[1;33m)\u001b[0m\u001b[1;33m\u001b[0m\u001b[1;33m\u001b[0m\u001b[0m\n",
      "\u001b[1;31mModuleNotFoundError\u001b[0m: No module named 'wikipedia'"
     ]
    }
   ],
   "source": [
    "import wikipedia\n",
    "\n",
    "links = []\n",
    "for x in astronauts:\n",
    "    print(wikipedia.summary(x))\n",
    "    page = wikipedia.page(x)\n",
    "    links.extend(page.links)"
   ]
  },
  {
   "cell_type": "markdown",
   "metadata": {},
   "source": [
    "#### Question 2.2\n",
    "Extend your Python program so that it only keeps links that are pointing to wikipedia pages (in any language)."
   ]
  },
  {
   "cell_type": "code",
   "execution_count": 21,
   "metadata": {},
   "outputs": [
    {
     "ename": "NameError",
     "evalue": "name 'links' is not defined",
     "output_type": "error",
     "traceback": [
      "\u001b[1;31m---------------------------------------------------------------------------\u001b[0m",
      "\u001b[1;31mNameError\u001b[0m                                 Traceback (most recent call last)",
      "\u001b[1;32m<ipython-input-21-3626986cc6c3>\u001b[0m in \u001b[0;36m<module>\u001b[1;34m\u001b[0m\n\u001b[1;32m----> 1\u001b[1;33m \u001b[1;32mfor\u001b[0m \u001b[0ml\u001b[0m \u001b[1;32min\u001b[0m \u001b[0mlinks\u001b[0m\u001b[1;33m:\u001b[0m\u001b[1;33m\u001b[0m\u001b[1;33m\u001b[0m\u001b[0m\n\u001b[0m\u001b[0;32m      2\u001b[0m     \u001b[1;32mtry\u001b[0m\u001b[1;33m:\u001b[0m\u001b[1;33m\u001b[0m\u001b[1;33m\u001b[0m\u001b[0m\n\u001b[0;32m      3\u001b[0m         \u001b[0mpage\u001b[0m \u001b[1;33m=\u001b[0m \u001b[0mwikipedia\u001b[0m\u001b[1;33m.\u001b[0m\u001b[0msearch\u001b[0m\u001b[1;33m(\u001b[0m\u001b[0ml\u001b[0m\u001b[1;33m,\u001b[0m \u001b[0mresults\u001b[0m \u001b[1;33m=\u001b[0m \u001b[1;36m1\u001b[0m\u001b[1;33m)\u001b[0m\u001b[1;33m\u001b[0m\u001b[1;33m\u001b[0m\u001b[0m\n\u001b[0;32m      4\u001b[0m         \u001b[0mprint\u001b[0m\u001b[1;33m(\u001b[0m\u001b[0mpage\u001b[0m\u001b[1;33m)\u001b[0m\u001b[1;33m\u001b[0m\u001b[1;33m\u001b[0m\u001b[0m\n\u001b[0;32m      5\u001b[0m     \u001b[1;32mexcept\u001b[0m \u001b[0mwikipedia\u001b[0m\u001b[1;33m.\u001b[0m\u001b[0mexceptions\u001b[0m\u001b[1;33m.\u001b[0m\u001b[0mPageError\u001b[0m \u001b[1;32mas\u001b[0m \u001b[0me\u001b[0m\u001b[1;33m:\u001b[0m\u001b[1;33m\u001b[0m\u001b[1;33m\u001b[0m\u001b[0m\n",
      "\u001b[1;31mNameError\u001b[0m: name 'links' is not defined"
     ]
    }
   ],
   "source": [
    "for l in links:\n",
    "    try:\n",
    "        page = wikipedia.search(l, results = 1)\n",
    "        print(page)\n",
    "    except wikipedia.exceptions.PageError as e:\n",
    "        print(e.options)"
   ]
  },
  {
   "cell_type": "markdown",
   "metadata": {},
   "source": [
    "#### Question 2.3\n",
    "Extend your Python program so that it processes these links as follows:\n",
    " - it retrieves the corresponding article and then extracts its references\n"
   ]
  },
  {
   "cell_type": "code",
   "execution_count": null,
   "metadata": {},
   "outputs": [],
   "source": [
    "refs = []\n",
    "for l in links:\n",
    "    try:\n",
    "        wikipedia.search(l, results=1)\n",
    "        page = wikipedia.page(l)\n",
    "        try:\n",
    "            refs.extend(page.references)\n",
    "            print(page.references)\n",
    "        except KeyError as ke:\n",
    "            pass\n",
    "    except wikipedia.exceptions.PageError as e:\n",
    "        print(e.options)\n",
    "print(refs)"
   ]
  },
  {
   "cell_type": "markdown",
   "metadata": {},
   "source": [
    "#### Question 2.4\n",
    "Extend your Python program to compute the average number of views for each astronaut's main article."
   ]
  },
  {
   "cell_type": "code",
   "execution_count": 26,
   "metadata": {},
   "outputs": [
    {
     "ename": "ModuleNotFoundError",
     "evalue": "No module named 'wptools'",
     "output_type": "error",
     "traceback": [
      "\u001b[1;31m---------------------------------------------------------------------------\u001b[0m",
      "\u001b[1;31mModuleNotFoundError\u001b[0m                       Traceback (most recent call last)",
      "\u001b[1;32m<ipython-input-26-e610e0a711f9>\u001b[0m in \u001b[0;36m<module>\u001b[1;34m\u001b[0m\n\u001b[1;32m----> 1\u001b[1;33m \u001b[1;32mimport\u001b[0m \u001b[0mwptools\u001b[0m\u001b[1;33m\u001b[0m\u001b[1;33m\u001b[0m\u001b[0m\n\u001b[0m",
      "\u001b[1;31mModuleNotFoundError\u001b[0m: No module named 'wptools'"
     ]
    }
   ],
   "source": [
    "import wptools\n",
    "\n",
    "total = 0\n",
    "for x in astronauts:\n",
    "    page = wptools.page(x)\n",
    "    num_views = page.get_more().data['views']\n",
    "    print(x, num_views)\n",
    "    total_views += int(num_views)\n",
    "print (\"Average views:\" + total/len(astronauts))"
   ]
  },
  {
   "cell_type": "markdown",
   "metadata": {},
   "source": [
    "#### Question 2.5\n",
    "Export the extracted information in a CSV file having the following fields:\n",
    "\n",
    "`Astronaut's name ; Article's summary ; links separated by commas ; number of views`"
   ]
  },
  {
   "cell_type": "code",
   "execution_count": null,
   "metadata": {},
   "outputs": [],
   "source": [
    "import wptools\n",
    "\n",
    "csv = ''\n",
    "for x in astronauts:\n",
    "    page = wptools.page(x)\n",
    "    summary = page.get_restbase('/page/summary/').data['exrest']\n",
    "    links = page.get().data['links']\n",
    "    num_views = page.get_more().data['views']\n",
    "    line = x + \";\" + summary.replace(\";\", \",\") + \";\" + ','.join(links) + ';' + str(num_views)\n",
    "    csv += line\n",
    "print(csv)"
   ]
  },
  {
   "cell_type": "markdown",
   "metadata": {},
   "source": [
    "### Exercise 3\n",
    "In this exercise, we want to build a multilingual resource.\n",
    "Take the list of movies from [Exercise sheet #3](https://nbviewer.jupyter.org/urls/mastertal.gitlab.io/UE803/notebooks/Exercise_sheet_webscraping.ipynb) and build a parallel corpora EN-FR of movie titles."
   ]
  },
  {
   "cell_type": "code",
   "execution_count": null,
   "metadata": {},
   "outputs": [],
   "source": [
    "import wptools\n",
    "\n",
    "corpus = ''\n",
    "with open('movies.txt', 'r') as f:\n",
    "    for line in f:\n",
    "        title_en = line.split(';')[0]\n",
    "        page = wptools.page(title_en)\n",
    "        try:\n",
    "            languages=page.get_more().data['languages']\n",
    "            title_fr = ''\n",
    "            index = 0\n",
    "            found = False\n",
    "            while index < len(languages) and not (found):\n",
    "                if languages[index]['lang'] == 'fr':\n",
    "                    title_fr = languages[index]['title']\n",
    "                    found = True\n",
    "                index += 1\n",
    "            if found:\n",
    "                corpus += title_en + \";\" + title_fr + '\\n'\n",
    "        except LookupError as e:\n",
    "            pass\n",
    "print(corpus)"
   ]
  },
  {
   "cell_type": "markdown",
   "metadata": {},
   "source": [
    "### Exercise 4\n",
    "In this exercise, you will extract information from the Mastodon social network.\n",
    "\n",
    "#### Question 4.1\n",
    "- Create a Mastodon account (on your prefered Mastodon instance).\n",
    "\n",
    "- Write a Python application named \"ES4\" (for Exercise Sheet 4) and register it manually.\n"
   ]
  },
  {
   "cell_type": "code",
   "execution_count": null,
   "metadata": {},
   "outputs": [],
   "source": [
    "from mastodon import Mastodon\n",
    "\n",
    "appId, secret = Mastodon.create_app(\"ES4\", scopes=['read', 'write'], api_base_url=\"https://mastodon.social\")\n",
    "client = Mastodon(appId, secret, api_base_url = \"https://mastodon.social\")"
   ]
  },
  {
   "cell_type": "markdown",
   "metadata": {},
   "source": [
    "#### Question 4.2\n",
    "Extract from public timelines, toots having the #worldcup tag (we only want toots' content)."
   ]
  },
  {
   "cell_type": "code",
   "execution_count": null,
   "metadata": {},
   "outputs": [],
   "source": [
    "posts = [x.content for x in client.timeline_hashtag('worldcup')]\n",
    "print(posts)"
   ]
  },
  {
   "cell_type": "markdown",
   "metadata": {},
   "source": [
    "#### Question 4.3\n",
    "How many such toots contain images ?"
   ]
  },
  {
   "cell_type": "code",
   "execution_count": null,
   "metadata": {},
   "outputs": [],
   "source": [
    "img_posts = [x.content for x in client.timeline_hashtag('worldcup', limit = 1000) if any(y['type']== 'image')]\n",
    "print(len(img_posts))"
   ]
  },
  {
   "cell_type": "markdown",
   "metadata": {},
   "source": [
    "#### Question 4.4\n",
    "Get the list of public published statuses on the Mastodon flagship (mastodon.social). "
   ]
  },
  {
   "cell_type": "code",
   "execution_count": null,
   "metadata": {},
   "outputs": [],
   "source": [
    "toots = client.timeline(timeline='public')\n",
    "print(toots)"
   ]
  },
  {
   "cell_type": "markdown",
   "metadata": {},
   "source": [
    "#### Question 4.5 (bonus)\n",
    "Write a Python bot, which reacts to toots from its followers.\n",
    "Every time a follower mentions your bot's name in a toot which contains the word `fortune`, your bot will pick up a fortune from this [list](https://www.fortunes-fr.org/data/proverbes) and toot it."
   ]
  },
  {
   "cell_type": "code",
   "execution_count": null,
   "metadata": {},
   "outputs": [],
   "source": [
    "from mastodon import Mastodon, StreamListener\n",
    "import requests, html2text, random\n",
    "\n",
    "class theBot(StreamListener):\n",
    "    def on_notification(self, notification):\n",
    "        if notification['type'] == 'mention':\n",
    "            html = notification['status']['content']\n",
    "            text = html2text.html2text(html)\n",
    "            if 'fortune' in text:\n",
    "                page = requests.get('https://www.fortunes-fr.org/data/proverbes')\n",
    "                page.encoding = \"ISO-8859-1\"\n",
    "                fortunes = page.content.decode().split('%')\n",
    "                fortune = fortunes[random.randint(0, len(fortunes)-1)]\n",
    "                print(str(fortune))\n",
    "                sid = notification['status']['id']\n",
    "                visibility = notification['status']['visibility']\n",
    "                mastodon.status_post(str(fortune), in_reply_to_id = sid, visibility = visibility)\n",
    "                \n",
    "with open('mastodon.secret', 'r') as f:\n",
    "    credentials = f.readlines()\n",
    "    \n",
    "mastodon = Mastodon()\n",
    "    access_token = credentials[2].strip()\n",
    "    api_base_url = 'https://botsin.space'\n",
    "fortuneBot = theBot()\n",
    "mastodon.stream_user(fortuneBot)"
   ]
  },
  {
   "cell_type": "markdown",
   "metadata": {},
   "source": [
    "### Exercise 5\n",
    "#### Question 5.1 \n",
    "Using Wikipedia, compile the list of UEFA's Intertoto cup winners sorted by country."
   ]
  },
  {
   "cell_type": "code",
   "execution_count": null,
   "metadata": {},
   "outputs": [],
   "source": [
    "import wptools\n",
    "from bs4 import BeautifulSoup, SoupStrainer\n",
    "\n",
    "page = wptools.page('intertoto')\n",
    "content = page.get_restbase('/page/html').data['html']\n",
    "soup = BeautifulSoup(content, 'html.parser')\n",
    "tables = soup.find_all(SoupStrainer('table'))\n",
    "\n",
    "table_body = tables[7]\n",
    "data = {}\n",
    "\n",
    "rows = table_body.find_all('tr')\n",
    "for row in rows:\n",
    "    cols = row.find_all('td')\n",
    "    if len(cols) >=4:\n",
    "        data[cols[1].text] = cols[4].text\n",
    "print(data)"
   ]
  },
  {
   "cell_type": "markdown",
   "metadata": {},
   "source": [
    "#### Question 5.2\n",
    "Compute the number of Intertoto winners per country."
   ]
  },
  {
   "cell_type": "code",
   "execution_count": null,
   "metadata": {},
   "outputs": [],
   "source": [
    "number = {}\n",
    "for country, teams in data.items():\n",
    "    answer[country] = len(teams.split(','))\n",
    "print(answer)"
   ]
  }
 ],
 "metadata": {
  "kernelspec": {
   "display_name": "Python 3",
   "language": "python",
   "name": "python3"
  },
  "language_info": {
   "codemirror_mode": {
    "name": "ipython",
    "version": 3
   },
   "file_extension": ".py",
   "mimetype": "text/x-python",
   "name": "python",
   "nbconvert_exporter": "python",
   "pygments_lexer": "ipython3",
   "version": "3.7.1"
  }
 },
 "nbformat": 4,
 "nbformat_minor": 2
}
